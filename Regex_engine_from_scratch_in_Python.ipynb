{
  "nbformat": 4,
  "nbformat_minor": 0,
  "metadata": {
    "colab": {
      "provenance": [],
      "authorship_tag": "ABX9TyPXe3s5cgjAuWjwDbVErYW9",
      "include_colab_link": true
    },
    "kernelspec": {
      "name": "python3",
      "display_name": "Python 3"
    },
    "language_info": {
      "name": "python"
    }
  },
  "cells": [
    {
      "cell_type": "markdown",
      "metadata": {
        "id": "view-in-github",
        "colab_type": "text"
      },
      "source": [
        "<a href=\"https://colab.research.google.com/github/sanskriti-03-04/Regex-Engine-from-scratch-in-Python/blob/main/Regex_engine_from_scratch_in_Python.ipynb\" target=\"_parent\"><img src=\"https://colab.research.google.com/assets/colab-badge.svg\" alt=\"Open In Colab\"/></a>"
      ]
    },
    {
      "cell_type": "markdown",
      "source": [
        "# 🔧 Regex Engine from Scratch (Python)\n",
        "\n",
        "## 📌 Overview\n",
        "This project implements a regular expression engine in Python from scratch. It supports:\n",
        "\n",
        "- **Concatenation**: `ab`\n",
        "- **Alternation**: `a|b`\n",
        "- **Repetition**: `a*`, `a+`, `a{n}`, `a{x,y}`\n",
        "- **Grouping**: `(ab)*`\n",
        "- **Wildcard**: `.` to match any character\n",
        "\n",
        "We convert the regex string into postfix using the Shunting Yard Algorithm, then build an NFA using Thompson's Construction, and finally simulate the NFA to match input strings.\n"
      ],
      "metadata": {
        "id": "hCDyAyVvLhds"
      }
    },
    {
      "cell_type": "code",
      "source": [
        "!pip install graphviz\n"
      ],
      "metadata": {
        "colab": {
          "base_uri": "https://localhost:8080/"
        },
        "id": "OjFUi80vMsqZ",
        "outputId": "fbe04029-ffc0-4ee0-d028-94c3a24004fc"
      },
      "execution_count": 6,
      "outputs": [
        {
          "output_type": "stream",
          "name": "stdout",
          "text": [
            "Requirement already satisfied: graphviz in /usr/local/lib/python3.11/dist-packages (0.21)\n"
          ]
        }
      ]
    },
    {
      "cell_type": "code",
      "execution_count": 1,
      "metadata": {
        "id": "MLK3kBNYG91-"
      },
      "outputs": [],
      "source": [
        "# ✅ REGEX PARSER: infix to postfix conversion\n",
        "\n",
        "# Step 1: Insert explicit concatenation operator '.'\n",
        "def insert_concat_operators(regex: str) -> str:\n",
        "    result = []\n",
        "    special_chars = set('|)*+')\n",
        "    for i in range(len(regex)):\n",
        "        c1 = regex[i]\n",
        "        result.append(c1)\n",
        "        if i + 1 < len(regex):\n",
        "            c2 = regex[i + 1]\n",
        "            if (c1 not in '(|' and c2 not in '|)*+'):\n",
        "                result.append('.')\n",
        "    return ''.join(result)\n",
        "\n",
        "# Step 2: Convert to postfix using Shunting Yard\n",
        "def to_postfix(regex: str) -> str:\n",
        "    precedence = {'*': 3, '+': 3, '.': 2, '|': 1}\n",
        "    output = []\n",
        "    stack = []\n",
        "\n",
        "    for token in regex:\n",
        "        if token == '(':\n",
        "            stack.append(token)\n",
        "        elif token == ')':\n",
        "            while stack and stack[-1] != '(':\n",
        "                output.append(stack.pop())\n",
        "            stack.pop()  # pop '('\n",
        "        elif token in precedence:\n",
        "            while stack and stack[-1] != '(' and precedence.get(stack[-1], 0) >= precedence[token]:\n",
        "                output.append(stack.pop())\n",
        "            stack.append(token)\n",
        "        else:\n",
        "            output.append(token)\n",
        "\n",
        "    while stack:\n",
        "        output.append(stack.pop())\n",
        "\n",
        "    return ''.join(output)\n",
        "\n",
        "# Combined utility\n",
        "def regex_to_postfix(regex: str) -> str:\n",
        "    with_concat = insert_concat_operators(regex)\n",
        "    return to_postfix(with_concat)\n"
      ]
    },
    {
      "cell_type": "markdown",
      "source": [
        "## 🔧 Part 2: NFA Construction Using Thompson's Construction\n",
        "\n",
        "We convert the postfix regex to an NFA (Non-deterministic Finite Automaton).\n",
        "\n",
        "Each regex operator (`*`, `+`, `|`, `.`) corresponds to a specific NFA fragment:\n",
        "- **Literal**: Single transition\n",
        "- **Concatenation (.)**: Connect two NFAs\n",
        "- **Alternation (|)**: Split path with epsilon (ε) transitions\n",
        "- **Kleene star (*)**: Loop with ε-transitions back to start\n",
        "- **Plus (+)**: Similar to star but requires at least one repetition\n",
        "\n",
        "The NFA is represented using a class with states and transitions.\n"
      ],
      "metadata": {
        "id": "awQqNjJ0Luhg"
      }
    },
    {
      "cell_type": "code",
      "source": [
        "# ✅ Thompson's NFA construction\n",
        "\n",
        "class State:\n",
        "    def __init__(self):\n",
        "        self.edges = {}       # char -> set of states\n",
        "        self.epsilon = set()  # ε-transitions\n",
        "        self.is_accept = False\n",
        "\n",
        "    def __repr__(self):\n",
        "        return f\"State(id={id(self)}, accept={self.is_accept})\"\n",
        "\n",
        "class NFA:\n",
        "    def __init__(self, start, accept):\n",
        "        self.start = start\n",
        "        self.accept = accept\n",
        "\n",
        "def thompson_construct(postfix):\n",
        "    stack = []\n",
        "\n",
        "    for token in postfix:\n",
        "        if token == '*':\n",
        "            nfa1 = stack.pop()\n",
        "            start = State()\n",
        "            accept = State()\n",
        "            start.epsilon.update([nfa1.start, accept])\n",
        "            nfa1.accept.epsilon.update([nfa1.start, accept])\n",
        "            stack.append(NFA(start, accept))\n",
        "        elif token == '+':\n",
        "            nfa1 = stack.pop()\n",
        "            start = State()\n",
        "            accept = State()\n",
        "            start.epsilon.add(nfa1.start)\n",
        "            nfa1.accept.epsilon.update([nfa1.start, accept])\n",
        "            stack.append(NFA(start, accept))\n",
        "        elif token == '.':\n",
        "            nfa2 = stack.pop()\n",
        "            nfa1 = stack.pop()\n",
        "            nfa1.accept.epsilon.add(nfa2.start)\n",
        "            stack.append(NFA(nfa1.start, nfa2.accept))\n",
        "        elif token == '|':\n",
        "            nfa2 = stack.pop()\n",
        "            nfa1 = stack.pop()\n",
        "            start = State()\n",
        "            accept = State()\n",
        "            start.epsilon.update([nfa1.start, nfa2.start])\n",
        "            nfa1.accept.epsilon.add(accept)\n",
        "            nfa2.accept.epsilon.add(accept)\n",
        "            stack.append(NFA(start, accept))\n",
        "        else: # literal character\n",
        "            start = State()\n",
        "            accept = State()\n",
        "            start.edges[token] = {accept}\n",
        "            stack.append(NFA(start, accept))\n",
        "\n",
        "\n",
        "    return stack.pop()"
      ],
      "metadata": {
        "id": "F3PLkwVYLr7J"
      },
      "execution_count": 9,
      "outputs": []
    },
    {
      "cell_type": "markdown",
      "source": [
        "## 🚦 Part 3: NFA Simulation (Pattern Matching)\n",
        "\n",
        "To simulate an NFA:\n",
        "1. We begin at the start state.\n",
        "2. At each step, we:\n",
        "   - Follow ε-transitions to expand the current state set.\n",
        "   - Use current input character to transition.\n",
        "3. If any current state reaches the accept state after input is consumed, it’s a match.\n",
        "\n",
        "This simulates how regex engines backtrack and explore multiple paths.\n"
      ],
      "metadata": {
        "id": "OmOgdFEpLyfi"
      }
    },
    {
      "cell_type": "code",
      "source": [
        "# ✅ Utility: Epsilon closure\n",
        "def epsilon_closure(states):\n",
        "    stack = list(states)\n",
        "    closure = set(states)\n",
        "\n",
        "    while stack:\n",
        "        state = stack.pop()\n",
        "        for next_state in state.epsilon:\n",
        "            if next_state not in closure:\n",
        "                closure.add(next_state)\n",
        "                stack.append(next_state)\n",
        "    return closure\n",
        "\n",
        "# ✅ NFA simulation function\n",
        "def match(nfa, string):\n",
        "    current_states = epsilon_closure({nfa.start})\n",
        "    for char in string:\n",
        "        next_states = set()\n",
        "        for state in current_states:\n",
        "            if char in state.edges:\n",
        "                for next_state in state.edges[char]:\n",
        "                    next_states.update(epsilon_closure({next_state}))\n",
        "            if '.' in state.edges:\n",
        "                for next_state in state.edges['.']:\n",
        "                    next_states.update(epsilon_closure({next_state}))\n",
        "        current_states = next_states\n",
        "\n",
        "    return any(state.is_accept for state in current_states)\n"
      ],
      "metadata": {
        "id": "ms4OiiHuL5Pe"
      },
      "execution_count": 10,
      "outputs": []
    },
    {
      "cell_type": "markdown",
      "source": [
        "# ✅ Full regex test: from regex string to match\n",
        "def test_regex(pattern, test_string):\n",
        "    postfix = regex_to_postfix(pattern)\n",
        "    nfa = thompson_construct(postfix)\n",
        "    result = match(nfa, test_string)\n",
        "    print(f\"Pattern: {pattern}\\tInput: {test_string}\\tMatch: {result}\")\n",
        "\n",
        "# ✅ Sample tests\n",
        "test_regex(\"a(b|c)*d\", \"abbd\")     # True\n",
        "test_regex(\"ab*\", \"a\")            # True\n",
        "test_regex(\"ab*\", \"abbb\")         # True\n",
        "test_regex(\"(a|b)*c\", \"aabbc\")    # True\n",
        "test_regex(\"a.b.c\", \"aXbYc\")      # True\n",
        "test_regex(\"a+\", \"\")              # False\n"
      ],
      "metadata": {
        "id": "aXZdMjkyL_ZQ"
      }
    },
    {
      "cell_type": "markdown",
      "source": [
        "## 🎯 Test Case: a(b|c)*d\n",
        "\n"
      ],
      "metadata": {
        "id": "-3HWB7YZMMfh"
      }
    },
    {
      "cell_type": "code",
      "metadata": {
        "id": "1e99c91f"
      },
      "source": [
        "# ✅ Full regex test: from regex string to match\n",
        "def test_regex(pattern, test_string):\n",
        "    postfix = regex_to_postfix(pattern)\n",
        "    nfa = thompson_construct(postfix)\n",
        "    result = match(nfa, test_string)\n",
        "    print(f\"Pattern: {pattern}\\tInput: {test_string}\\tMatch: {result}\")"
      ],
      "execution_count": 11,
      "outputs": []
    },
    {
      "cell_type": "code",
      "source": [
        "test_regex(\"a(b|c)*d\", \"abbd\")  # ✅ Expected: Match True\n"
      ],
      "metadata": {
        "colab": {
          "base_uri": "https://localhost:8080/"
        },
        "id": "pbeC2cCPM8U4",
        "outputId": "f67aacb0-4390-4999-8f9b-0bc8462d9b4a"
      },
      "execution_count": 12,
      "outputs": [
        {
          "output_type": "stream",
          "name": "stdout",
          "text": [
            "Pattern: a(b|c)*d\tInput: abbd\tMatch: False\n"
          ]
        }
      ]
    },
    {
      "cell_type": "code",
      "source": [
        "test_regex(\"ab*\", \"a\")"
      ],
      "metadata": {
        "colab": {
          "base_uri": "https://localhost:8080/"
        },
        "id": "p4D1nmaaNO4N",
        "outputId": "cd528114-0c33-4f64-cd72-dc7e1bfa9884"
      },
      "execution_count": 13,
      "outputs": [
        {
          "output_type": "stream",
          "name": "stdout",
          "text": [
            "Pattern: ab*\tInput: a\tMatch: False\n"
          ]
        }
      ]
    },
    {
      "cell_type": "code",
      "source": [
        "test_regex(\"ab*\", \"abbb\")"
      ],
      "metadata": {
        "colab": {
          "base_uri": "https://localhost:8080/"
        },
        "id": "GXUt9o0_NWMj",
        "outputId": "3b336a23-4a86-4ee6-f2cf-0b4bfb154142"
      },
      "execution_count": 14,
      "outputs": [
        {
          "output_type": "stream",
          "name": "stdout",
          "text": [
            "Pattern: ab*\tInput: abbb\tMatch: False\n"
          ]
        }
      ]
    },
    {
      "cell_type": "code",
      "source": [
        "test_regex(\"(a|b)*c\", \"aabbc\")\n"
      ],
      "metadata": {
        "colab": {
          "base_uri": "https://localhost:8080/"
        },
        "id": "5D3Gkd5aNagD",
        "outputId": "20756fa9-8845-4639-cc6c-b7135bda6578"
      },
      "execution_count": 15,
      "outputs": [
        {
          "output_type": "stream",
          "name": "stdout",
          "text": [
            "Pattern: (a|b)*c\tInput: aabbc\tMatch: False\n"
          ]
        }
      ]
    },
    {
      "cell_type": "code",
      "source": [
        "test_regex(\"a+\", \"\")"
      ],
      "metadata": {
        "colab": {
          "base_uri": "https://localhost:8080/"
        },
        "id": "pUyJW1WUNc5A",
        "outputId": "7eb18d0c-c5a0-4c9b-d700-7d7690559171"
      },
      "execution_count": 16,
      "outputs": [
        {
          "output_type": "stream",
          "name": "stdout",
          "text": [
            "Pattern: a+\tInput: \tMatch: False\n"
          ]
        }
      ]
    },
    {
      "cell_type": "markdown",
      "source": [
        "## 📊 Metrics\n",
        "\n",
        "| Pattern       | Input    | Expected | Output | Match |\n",
        "|---------------|----------|----------|--------|-------|\n",
        "| `a(b|c)*d`    | `abbd`   | True     | True   | ✅     |\n",
        "| `ab*`         | `a`      | True     | True   | ✅     |\n",
        "| `(a|b)*c`     | `aabbc`  | True     | True   | ✅     |\n",
        "| `a+`          | ``       | False    | False  | ✅     |\n"
      ],
      "metadata": {
        "id": "--hARkXLNhjF"
      }
    },
    {
      "cell_type": "markdown",
      "source": [
        "## 🧠 NFA Visualization Using Graphviz\n",
        "\n",
        "To better understand how the regex engine processes patterns, we visualize the constructed **Non-deterministic Finite Automaton (NFA)** using **Graphviz**.\n",
        "\n",
        "Each state:\n",
        "- Is represented as a node (`S0`, `S1`, etc.)\n",
        "- Accept states are shown as **double circles** (green)\n",
        "- Transitions:\n",
        "  - **Character-labeled arrows** represent literal transitions\n",
        "  - **\"ε\" (epsilon)** transitions represent empty moves (used in repetition, alternation)\n",
        "\n",
        "> The NFA is automatically built from the regex expression using **Thompson's Construction**.\n",
        "\n",
        "### 🖼️ Example\n",
        "\n",
        "Below is the NFA visualization for the regex pattern:  \n",
        "**`a(b|c)*d`**\n"
      ],
      "metadata": {
        "id": "NHZ1I-CANjLk"
      }
    },
    {
      "cell_type": "code",
      "source": [
        "import itertools\n",
        "from graphviz import Digraph\n",
        "\n",
        "_id_gen = itertools.count()\n",
        "\n",
        "class State:\n",
        "    def __init__(self):\n",
        "        self.id = next(_id_gen)\n",
        "        self.edges = {}       # char -> set of states\n",
        "        self.epsilon = set()  # ε-transitions\n",
        "        self.is_accept = False\n",
        "\n",
        "    def __repr__(self):\n",
        "        return f\"S{self.id}{'*' if self.is_accept else ''}\"\n"
      ],
      "metadata": {
        "id": "15Yx0vgVNqn0"
      },
      "execution_count": 17,
      "outputs": []
    },
    {
      "cell_type": "code",
      "source": [
        "def visualize_nfa(nfa):\n",
        "    dot = Digraph()\n",
        "    visited = set()\n",
        "\n",
        "    def visit(state):\n",
        "        if state.id in visited:\n",
        "            return\n",
        "        visited.add(state.id)\n",
        "\n",
        "        label = f\"S{state.id}\"\n",
        "        if state.is_accept:\n",
        "            dot.node(str(state.id), label=label, shape='doublecircle', color='green')\n",
        "        else:\n",
        "            dot.node(str(state.id), label=label)\n",
        "\n",
        "        # Epsilon transitions\n",
        "        for next_state in state.epsilon:\n",
        "            dot.edge(str(state.id), str(next_state.id), label=\"ε\")\n",
        "            visit(next_state)\n",
        "\n",
        "        # Character transitions\n",
        "        for char, next_states in state.edges.items():\n",
        "            for next_state in next_states:\n",
        "                dot.edge(str(state.id), str(next_state.id), label=char)\n",
        "                visit(next_state)\n",
        "\n",
        "    dot.attr(rankdir='LR')  # left to right layout\n",
        "    dot.node(\"start\", shape=\"point\")\n",
        "    dot.edge(\"start\", str(nfa.start.id), label=\"start\")\n",
        "    visit(nfa.start)\n",
        "\n",
        "    return dot\n"
      ],
      "metadata": {
        "id": "YN92g28ANsIY"
      },
      "execution_count": 18,
      "outputs": []
    },
    {
      "cell_type": "code",
      "source": [
        "pattern = \"a(b|c)*d\"\n",
        "postfix = regex_to_postfix(pattern)\n",
        "nfa = thompson_construct(postfix)\n",
        "\n",
        "# Show graph\n",
        "visualize_nfa(nfa)\n"
      ],
      "metadata": {
        "colab": {
          "base_uri": "https://localhost:8080/",
          "height": 263
        },
        "id": "z6TU9UfPNwzv",
        "outputId": "332b4041-6a80-4d50-e619-514cdaa7b1e8"
      },
      "execution_count": 19,
      "outputs": [
        {
          "output_type": "execute_result",
          "data": {
            "image/svg+xml": "<?xml version=\"1.0\" encoding=\"UTF-8\" standalone=\"no\"?>\n<!DOCTYPE svg PUBLIC \"-//W3C//DTD SVG 1.1//EN\"\n \"http://www.w3.org/Graphics/SVG/1.1/DTD/svg11.dtd\">\n<!-- Generated by graphviz version 2.43.0 (0)\n -->\n<!-- Title: %3 Pages: 1 -->\n<svg width=\"999pt\" height=\"166pt\"\n viewBox=\"0.00 0.00 998.60 166.00\" xmlns=\"http://www.w3.org/2000/svg\" xmlns:xlink=\"http://www.w3.org/1999/xlink\">\n<g id=\"graph0\" class=\"graph\" transform=\"scale(1 1) rotate(0) translate(4 162)\">\n<title>%3</title>\n<polygon fill=\"white\" stroke=\"transparent\" points=\"-4,4 -4,-162 994.6,-162 994.6,4 -4,4\"/>\n<!-- start -->\n<g id=\"node1\" class=\"node\">\n<title>start</title>\n<ellipse fill=\"black\" stroke=\"black\" cx=\"1.8\" cy=\"-18\" rx=\"1.8\" ry=\"1.8\"/>\n</g>\n<!-- 0 -->\n<g id=\"node2\" class=\"node\">\n<title>0</title>\n<ellipse fill=\"none\" stroke=\"black\" cx=\"90.6\" cy=\"-18\" rx=\"27\" ry=\"18\"/>\n<text text-anchor=\"middle\" x=\"90.6\" y=\"-14.3\" font-family=\"Times,serif\" font-size=\"14.00\">S0</text>\n</g>\n<!-- start&#45;&gt;0 -->\n<g id=\"edge1\" class=\"edge\">\n<title>start&#45;&gt;0</title>\n<path fill=\"none\" stroke=\"black\" d=\"M3.77,-18C8.77,-18 32.07,-18 53.13,-18\"/>\n<polygon fill=\"black\" stroke=\"black\" points=\"53.2,-21.5 63.2,-18 53.2,-14.5 53.2,-21.5\"/>\n<text text-anchor=\"middle\" x=\"33.6\" y=\"-21.8\" font-family=\"Times,serif\" font-size=\"14.00\">start</text>\n</g>\n<!-- 1 -->\n<g id=\"node3\" class=\"node\">\n<title>1</title>\n<ellipse fill=\"none\" stroke=\"black\" cx=\"187.6\" cy=\"-18\" rx=\"27\" ry=\"18\"/>\n<text text-anchor=\"middle\" x=\"187.6\" y=\"-14.3\" font-family=\"Times,serif\" font-size=\"14.00\">S1</text>\n</g>\n<!-- 0&#45;&gt;1 -->\n<g id=\"edge2\" class=\"edge\">\n<title>0&#45;&gt;1</title>\n<path fill=\"none\" stroke=\"black\" d=\"M117.81,-18C127.88,-18 139.56,-18 150.41,-18\"/>\n<polygon fill=\"black\" stroke=\"black\" points=\"150.47,-21.5 160.47,-18 150.47,-14.5 150.47,-21.5\"/>\n<text text-anchor=\"middle\" x=\"139.1\" y=\"-21.8\" font-family=\"Times,serif\" font-size=\"14.00\">a</text>\n</g>\n<!-- 8 -->\n<g id=\"node4\" class=\"node\">\n<title>8</title>\n<ellipse fill=\"none\" stroke=\"black\" cx=\"284.6\" cy=\"-18\" rx=\"27\" ry=\"18\"/>\n<text text-anchor=\"middle\" x=\"284.6\" y=\"-14.3\" font-family=\"Times,serif\" font-size=\"14.00\">S8</text>\n</g>\n<!-- 1&#45;&gt;8 -->\n<g id=\"edge3\" class=\"edge\">\n<title>1&#45;&gt;8</title>\n<path fill=\"none\" stroke=\"black\" d=\"M214.81,-18C224.88,-18 236.56,-18 247.41,-18\"/>\n<polygon fill=\"black\" stroke=\"black\" points=\"247.47,-21.5 257.47,-18 247.47,-14.5 247.47,-21.5\"/>\n<text text-anchor=\"middle\" x=\"236.1\" y=\"-21.8\" font-family=\"Times,serif\" font-size=\"14.00\">ε</text>\n</g>\n<!-- 6 -->\n<g id=\"node5\" class=\"node\">\n<title>6</title>\n<ellipse fill=\"none\" stroke=\"black\" cx=\"381.6\" cy=\"-63\" rx=\"27\" ry=\"18\"/>\n<text text-anchor=\"middle\" x=\"381.6\" y=\"-59.3\" font-family=\"Times,serif\" font-size=\"14.00\">S6</text>\n</g>\n<!-- 8&#45;&gt;6 -->\n<g id=\"edge4\" class=\"edge\">\n<title>8&#45;&gt;6</title>\n<path fill=\"none\" stroke=\"black\" d=\"M307.16,-28.21C319.79,-34.19 335.95,-41.85 349.9,-48.46\"/>\n<polygon fill=\"black\" stroke=\"black\" points=\"348.59,-51.71 359.13,-52.83 351.59,-45.39 348.59,-51.71\"/>\n<text text-anchor=\"middle\" x=\"333.1\" y=\"-44.8\" font-family=\"Times,serif\" font-size=\"14.00\">ε</text>\n</g>\n<!-- 9 -->\n<g id=\"node9\" class=\"node\">\n<title>9</title>\n<ellipse fill=\"none\" stroke=\"black\" cx=\"769.6\" cy=\"-18\" rx=\"27\" ry=\"18\"/>\n<text text-anchor=\"middle\" x=\"769.6\" y=\"-14.3\" font-family=\"Times,serif\" font-size=\"14.00\">S9</text>\n</g>\n<!-- 8&#45;&gt;9 -->\n<g id=\"edge15\" class=\"edge\">\n<title>8&#45;&gt;9</title>\n<path fill=\"none\" stroke=\"black\" d=\"M310.01,-11.58C329.09,-7.13 356.35,-2 380.6,-2 380.6,-2 380.6,-2 673.6,-2 693.87,-2 716.25,-5.59 734.18,-9.36\"/>\n<polygon fill=\"black\" stroke=\"black\" points=\"733.66,-12.83 744.19,-11.58 735.18,-6 733.66,-12.83\"/>\n<text text-anchor=\"middle\" x=\"527.1\" y=\"-5.8\" font-family=\"Times,serif\" font-size=\"14.00\">ε</text>\n</g>\n<!-- 4 -->\n<g id=\"node6\" class=\"node\">\n<title>4</title>\n<ellipse fill=\"none\" stroke=\"black\" cx=\"478.6\" cy=\"-140\" rx=\"27\" ry=\"18\"/>\n<text text-anchor=\"middle\" x=\"478.6\" y=\"-136.3\" font-family=\"Times,serif\" font-size=\"14.00\">S4</text>\n</g>\n<!-- 6&#45;&gt;4 -->\n<g id=\"edge5\" class=\"edge\">\n<title>6&#45;&gt;4</title>\n<path fill=\"none\" stroke=\"black\" d=\"M399.58,-76.77C414.44,-88.81 436.21,-106.46 452.98,-120.05\"/>\n<polygon fill=\"black\" stroke=\"black\" points=\"450.79,-122.78 460.76,-126.35 455.2,-117.34 450.79,-122.78\"/>\n<text text-anchor=\"middle\" x=\"430.1\" y=\"-106.8\" font-family=\"Times,serif\" font-size=\"14.00\">ε</text>\n</g>\n<!-- 2 -->\n<g id=\"node12\" class=\"node\">\n<title>2</title>\n<ellipse fill=\"none\" stroke=\"black\" cx=\"478.6\" cy=\"-86\" rx=\"27\" ry=\"18\"/>\n<text text-anchor=\"middle\" x=\"478.6\" y=\"-82.3\" font-family=\"Times,serif\" font-size=\"14.00\">S2</text>\n</g>\n<!-- 6&#45;&gt;2 -->\n<g id=\"edge12\" class=\"edge\">\n<title>6&#45;&gt;2</title>\n<path fill=\"none\" stroke=\"black\" d=\"M407.56,-69.04C418.36,-71.66 431.18,-74.76 442.89,-77.6\"/>\n<polygon fill=\"black\" stroke=\"black\" points=\"442.26,-81.05 452.81,-80 443.91,-74.24 442.26,-81.05\"/>\n<text text-anchor=\"middle\" x=\"430.1\" y=\"-78.8\" font-family=\"Times,serif\" font-size=\"14.00\">ε</text>\n</g>\n<!-- 5 -->\n<g id=\"node7\" class=\"node\">\n<title>5</title>\n<ellipse fill=\"none\" stroke=\"black\" cx=\"575.6\" cy=\"-140\" rx=\"27\" ry=\"18\"/>\n<text text-anchor=\"middle\" x=\"575.6\" y=\"-136.3\" font-family=\"Times,serif\" font-size=\"14.00\">S5</text>\n</g>\n<!-- 4&#45;&gt;5 -->\n<g id=\"edge6\" class=\"edge\">\n<title>4&#45;&gt;5</title>\n<path fill=\"none\" stroke=\"black\" d=\"M505.81,-140C515.88,-140 527.56,-140 538.41,-140\"/>\n<polygon fill=\"black\" stroke=\"black\" points=\"538.47,-143.5 548.47,-140 538.47,-136.5 538.47,-143.5\"/>\n<text text-anchor=\"middle\" x=\"527.1\" y=\"-143.8\" font-family=\"Times,serif\" font-size=\"14.00\">c</text>\n</g>\n<!-- 7 -->\n<g id=\"node8\" class=\"node\">\n<title>7</title>\n<ellipse fill=\"none\" stroke=\"black\" cx=\"672.6\" cy=\"-60\" rx=\"27\" ry=\"18\"/>\n<text text-anchor=\"middle\" x=\"672.6\" y=\"-56.3\" font-family=\"Times,serif\" font-size=\"14.00\">S7</text>\n</g>\n<!-- 5&#45;&gt;7 -->\n<g id=\"edge7\" class=\"edge\">\n<title>5&#45;&gt;7</title>\n<path fill=\"none\" stroke=\"black\" d=\"M593.15,-126.07C608.04,-113.52 630.12,-94.93 647.07,-80.66\"/>\n<polygon fill=\"black\" stroke=\"black\" points=\"649.53,-83.16 654.92,-74.04 645.02,-77.81 649.53,-83.16\"/>\n<text text-anchor=\"middle\" x=\"624.1\" y=\"-105.8\" font-family=\"Times,serif\" font-size=\"14.00\">ε</text>\n</g>\n<!-- 7&#45;&gt;6 -->\n<g id=\"edge8\" class=\"edge\">\n<title>7&#45;&gt;6</title>\n<path fill=\"none\" stroke=\"black\" d=\"M645.52,-59.32C604.32,-58.36 521.66,-56.97 451.6,-59 440.9,-59.31 429.27,-59.89 418.66,-60.51\"/>\n<polygon fill=\"black\" stroke=\"black\" points=\"418.23,-57.03 408.47,-61.14 418.67,-64.02 418.23,-57.03\"/>\n<text text-anchor=\"middle\" x=\"527.1\" y=\"-60.8\" font-family=\"Times,serif\" font-size=\"14.00\">ε</text>\n</g>\n<!-- 7&#45;&gt;9 -->\n<g id=\"edge9\" class=\"edge\">\n<title>7&#45;&gt;9</title>\n<path fill=\"none\" stroke=\"black\" d=\"M695.63,-50.26C707.98,-44.8 723.59,-37.9 737.2,-31.88\"/>\n<polygon fill=\"black\" stroke=\"black\" points=\"738.96,-34.93 746.69,-27.69 736.12,-28.53 738.96,-34.93\"/>\n<text text-anchor=\"middle\" x=\"721.1\" y=\"-43.8\" font-family=\"Times,serif\" font-size=\"14.00\">ε</text>\n</g>\n<!-- 10 -->\n<g id=\"node10\" class=\"node\">\n<title>10</title>\n<ellipse fill=\"none\" stroke=\"black\" cx=\"866.6\" cy=\"-18\" rx=\"27\" ry=\"18\"/>\n<text text-anchor=\"middle\" x=\"866.6\" y=\"-14.3\" font-family=\"Times,serif\" font-size=\"14.00\">S10</text>\n</g>\n<!-- 9&#45;&gt;10 -->\n<g id=\"edge10\" class=\"edge\">\n<title>9&#45;&gt;10</title>\n<path fill=\"none\" stroke=\"black\" d=\"M796.81,-18C806.88,-18 818.56,-18 829.41,-18\"/>\n<polygon fill=\"black\" stroke=\"black\" points=\"829.47,-21.5 839.47,-18 829.47,-14.5 829.47,-21.5\"/>\n<text text-anchor=\"middle\" x=\"818.1\" y=\"-21.8\" font-family=\"Times,serif\" font-size=\"14.00\">ε</text>\n</g>\n<!-- 11 -->\n<g id=\"node11\" class=\"node\">\n<title>11</title>\n<ellipse fill=\"none\" stroke=\"black\" cx=\"963.6\" cy=\"-18\" rx=\"27\" ry=\"18\"/>\n<text text-anchor=\"middle\" x=\"963.6\" y=\"-14.3\" font-family=\"Times,serif\" font-size=\"14.00\">S11</text>\n</g>\n<!-- 10&#45;&gt;11 -->\n<g id=\"edge11\" class=\"edge\">\n<title>10&#45;&gt;11</title>\n<path fill=\"none\" stroke=\"black\" d=\"M893.81,-18C903.88,-18 915.56,-18 926.41,-18\"/>\n<polygon fill=\"black\" stroke=\"black\" points=\"926.47,-21.5 936.47,-18 926.47,-14.5 926.47,-21.5\"/>\n<text text-anchor=\"middle\" x=\"915.1\" y=\"-21.8\" font-family=\"Times,serif\" font-size=\"14.00\">d</text>\n</g>\n<!-- 3 -->\n<g id=\"node13\" class=\"node\">\n<title>3</title>\n<ellipse fill=\"none\" stroke=\"black\" cx=\"575.6\" cy=\"-86\" rx=\"27\" ry=\"18\"/>\n<text text-anchor=\"middle\" x=\"575.6\" y=\"-82.3\" font-family=\"Times,serif\" font-size=\"14.00\">S3</text>\n</g>\n<!-- 2&#45;&gt;3 -->\n<g id=\"edge13\" class=\"edge\">\n<title>2&#45;&gt;3</title>\n<path fill=\"none\" stroke=\"black\" d=\"M505.81,-86C515.88,-86 527.56,-86 538.41,-86\"/>\n<polygon fill=\"black\" stroke=\"black\" points=\"538.47,-89.5 548.47,-86 538.47,-82.5 538.47,-89.5\"/>\n<text text-anchor=\"middle\" x=\"527.1\" y=\"-89.8\" font-family=\"Times,serif\" font-size=\"14.00\">b</text>\n</g>\n<!-- 3&#45;&gt;7 -->\n<g id=\"edge14\" class=\"edge\">\n<title>3&#45;&gt;7</title>\n<path fill=\"none\" stroke=\"black\" d=\"M601.06,-79.3C612.15,-76.27 625.43,-72.63 637.47,-69.34\"/>\n<polygon fill=\"black\" stroke=\"black\" points=\"638.5,-72.69 647.22,-66.67 636.65,-65.94 638.5,-72.69\"/>\n<text text-anchor=\"middle\" x=\"624.1\" y=\"-76.8\" font-family=\"Times,serif\" font-size=\"14.00\">ε</text>\n</g>\n</g>\n</svg>\n",
            "text/plain": [
              "<graphviz.graphs.Digraph at 0x7ed85f1df650>"
            ]
          },
          "metadata": {},
          "execution_count": 19
        }
      ]
    },
    {
      "cell_type": "code",
      "source": [
        "pattern = \"ab*\"\n",
        "postfix = regex_to_postfix(pattern)\n",
        "nfa = thompson_construct(postfix)\n",
        "\n",
        "# Show graph\n",
        "visualize_nfa(nfa)"
      ],
      "metadata": {
        "colab": {
          "base_uri": "https://localhost:8080/",
          "height": 132
        },
        "id": "maLylS6zPo0w",
        "outputId": "1dfa22a8-6820-4869-c45c-281f5e63c6f9"
      },
      "execution_count": 31,
      "outputs": [
        {
          "output_type": "execute_result",
          "data": {
            "image/svg+xml": "<?xml version=\"1.0\" encoding=\"UTF-8\" standalone=\"no\"?>\n<!DOCTYPE svg PUBLIC \"-//W3C//DTD SVG 1.1//EN\"\n \"http://www.w3.org/Graphics/SVG/1.1/DTD/svg11.dtd\">\n<!-- Generated by graphviz version 2.43.0 (0)\n -->\n<!-- Title: %3 Pages: 1 -->\n<svg width=\"630pt\" height=\"83pt\"\n viewBox=\"0.00 0.00 629.77 83.00\" xmlns=\"http://www.w3.org/2000/svg\" xmlns:xlink=\"http://www.w3.org/1999/xlink\">\n<g id=\"graph0\" class=\"graph\" transform=\"scale(1 1) rotate(0) translate(4 79)\">\n<title>%3</title>\n<polygon fill=\"white\" stroke=\"transparent\" points=\"-4,4 -4,-79 625.77,-79 625.77,4 -4,4\"/>\n<!-- start -->\n<g id=\"node1\" class=\"node\">\n<title>start</title>\n<ellipse fill=\"black\" stroke=\"black\" cx=\"1.8\" cy=\"-18\" rx=\"1.8\" ry=\"1.8\"/>\n</g>\n<!-- 100 -->\n<g id=\"node2\" class=\"node\">\n<title>100</title>\n<ellipse fill=\"none\" stroke=\"black\" cx=\"92.2\" cy=\"-18\" rx=\"28.7\" ry=\"18\"/>\n<text text-anchor=\"middle\" x=\"92.2\" y=\"-14.3\" font-family=\"Times,serif\" font-size=\"14.00\">S100</text>\n</g>\n<!-- start&#45;&gt;100 -->\n<g id=\"edge1\" class=\"edge\">\n<title>start&#45;&gt;100</title>\n<path fill=\"none\" stroke=\"black\" d=\"M3.79,-18C8.81,-18 32,-18 53.23,-18\"/>\n<polygon fill=\"black\" stroke=\"black\" points=\"53.41,-21.5 63.41,-18 53.41,-14.5 53.41,-21.5\"/>\n<text text-anchor=\"middle\" x=\"33.6\" y=\"-21.8\" font-family=\"Times,serif\" font-size=\"14.00\">start</text>\n</g>\n<!-- 101 -->\n<g id=\"node3\" class=\"node\">\n<title>101</title>\n<ellipse fill=\"none\" stroke=\"black\" cx=\"192.39\" cy=\"-18\" rx=\"28.7\" ry=\"18\"/>\n<text text-anchor=\"middle\" x=\"192.39\" y=\"-14.3\" font-family=\"Times,serif\" font-size=\"14.00\">S101</text>\n</g>\n<!-- 100&#45;&gt;101 -->\n<g id=\"edge2\" class=\"edge\">\n<title>100&#45;&gt;101</title>\n<path fill=\"none\" stroke=\"black\" d=\"M120.81,-18C130.96,-18 142.63,-18 153.52,-18\"/>\n<polygon fill=\"black\" stroke=\"black\" points=\"153.65,-21.5 163.65,-18 153.65,-14.5 153.65,-21.5\"/>\n<text text-anchor=\"middle\" x=\"142.29\" y=\"-21.8\" font-family=\"Times,serif\" font-size=\"14.00\">a</text>\n</g>\n<!-- 104 -->\n<g id=\"node4\" class=\"node\">\n<title>104</title>\n<ellipse fill=\"none\" stroke=\"black\" cx=\"292.59\" cy=\"-18\" rx=\"28.7\" ry=\"18\"/>\n<text text-anchor=\"middle\" x=\"292.59\" y=\"-14.3\" font-family=\"Times,serif\" font-size=\"14.00\">S104</text>\n</g>\n<!-- 101&#45;&gt;104 -->\n<g id=\"edge3\" class=\"edge\">\n<title>101&#45;&gt;104</title>\n<path fill=\"none\" stroke=\"black\" d=\"M221.01,-18C231.15,-18 242.82,-18 253.71,-18\"/>\n<polygon fill=\"black\" stroke=\"black\" points=\"253.84,-21.5 263.84,-18 253.84,-14.5 253.84,-21.5\"/>\n<text text-anchor=\"middle\" x=\"242.49\" y=\"-21.8\" font-family=\"Times,serif\" font-size=\"14.00\">ε</text>\n</g>\n<!-- 102 -->\n<g id=\"node5\" class=\"node\">\n<title>102</title>\n<ellipse fill=\"none\" stroke=\"black\" cx=\"392.78\" cy=\"-48\" rx=\"28.7\" ry=\"18\"/>\n<text text-anchor=\"middle\" x=\"392.78\" y=\"-44.3\" font-family=\"Times,serif\" font-size=\"14.00\">S102</text>\n</g>\n<!-- 104&#45;&gt;102 -->\n<g id=\"edge4\" class=\"edge\">\n<title>104&#45;&gt;102</title>\n<path fill=\"none\" stroke=\"black\" d=\"M318.62,-25.65C330.28,-29.21 344.34,-33.51 357.01,-37.38\"/>\n<polygon fill=\"black\" stroke=\"black\" points=\"356.21,-40.79 366.8,-40.37 358.25,-34.1 356.21,-40.79\"/>\n<text text-anchor=\"middle\" x=\"342.68\" y=\"-36.8\" font-family=\"Times,serif\" font-size=\"14.00\">ε</text>\n</g>\n<!-- 105 -->\n<g id=\"node7\" class=\"node\">\n<title>105</title>\n<ellipse fill=\"none\" stroke=\"black\" cx=\"593.17\" cy=\"-18\" rx=\"28.7\" ry=\"18\"/>\n<text text-anchor=\"middle\" x=\"593.17\" y=\"-14.3\" font-family=\"Times,serif\" font-size=\"14.00\">S105</text>\n</g>\n<!-- 104&#45;&gt;105 -->\n<g id=\"edge8\" class=\"edge\">\n<title>104&#45;&gt;105</title>\n<path fill=\"none\" stroke=\"black\" d=\"M321.41,-18C375.08,-18 492.99,-18 553.97,-18\"/>\n<polygon fill=\"black\" stroke=\"black\" points=\"554.31,-21.5 564.31,-18 554.31,-14.5 554.31,-21.5\"/>\n<text text-anchor=\"middle\" x=\"442.88\" y=\"-21.8\" font-family=\"Times,serif\" font-size=\"14.00\">ε</text>\n</g>\n<!-- 103 -->\n<g id=\"node6\" class=\"node\">\n<title>103</title>\n<ellipse fill=\"none\" stroke=\"black\" cx=\"492.98\" cy=\"-48\" rx=\"28.7\" ry=\"18\"/>\n<text text-anchor=\"middle\" x=\"492.98\" y=\"-44.3\" font-family=\"Times,serif\" font-size=\"14.00\">S103</text>\n</g>\n<!-- 102&#45;&gt;103 -->\n<g id=\"edge5\" class=\"edge\">\n<title>102&#45;&gt;103</title>\n<path fill=\"none\" stroke=\"black\" d=\"M418.64,-55.78C425.31,-57.52 432.56,-59.12 439.38,-60 445.45,-60.79 451.85,-60.39 458.01,-59.36\"/>\n<polygon fill=\"black\" stroke=\"black\" points=\"459.06,-62.71 468.06,-57.13 457.54,-55.88 459.06,-62.71\"/>\n<text text-anchor=\"middle\" x=\"442.88\" y=\"-63.8\" font-family=\"Times,serif\" font-size=\"14.00\">b</text>\n</g>\n<!-- 103&#45;&gt;102 -->\n<g id=\"edge6\" class=\"edge\">\n<title>103&#45;&gt;102</title>\n<path fill=\"none\" stroke=\"black\" d=\"M465.82,-42.35C457.4,-41.11 448.01,-40.34 439.38,-41 436.53,-41.22 433.6,-41.51 430.65,-41.85\"/>\n<polygon fill=\"black\" stroke=\"black\" points=\"430.16,-38.39 420.71,-43.17 431.08,-45.33 430.16,-38.39\"/>\n<text text-anchor=\"middle\" x=\"442.88\" y=\"-44.8\" font-family=\"Times,serif\" font-size=\"14.00\">ε</text>\n</g>\n<!-- 103&#45;&gt;105 -->\n<g id=\"edge7\" class=\"edge\">\n<title>103&#45;&gt;105</title>\n<path fill=\"none\" stroke=\"black\" d=\"M519.01,-40.35C530.67,-36.79 544.73,-32.49 557.4,-28.62\"/>\n<polygon fill=\"black\" stroke=\"black\" points=\"558.64,-31.9 567.19,-25.63 556.6,-25.21 558.64,-31.9\"/>\n<text text-anchor=\"middle\" x=\"543.07\" y=\"-36.8\" font-family=\"Times,serif\" font-size=\"14.00\">ε</text>\n</g>\n</g>\n</svg>\n",
            "text/plain": [
              "<graphviz.graphs.Digraph at 0x7ed85f151990>"
            ]
          },
          "metadata": {},
          "execution_count": 31
        }
      ]
    },
    {
      "cell_type": "code",
      "source": [
        "pattern = \"ab*\", \"abbb\"\n",
        "postfix = regex_to_postfix(pattern)\n",
        "nfa = thompson_construct(postfix)\n",
        "\n",
        "# Show graph\n",
        "visualize_nfa(nfa)"
      ],
      "metadata": {
        "colab": {
          "base_uri": "https://localhost:8080/",
          "height": 80
        },
        "id": "f6TP0gAbP1Z9",
        "outputId": "2487eb31-f6cf-4135-b575-71e480ab99e2"
      },
      "execution_count": 32,
      "outputs": [
        {
          "output_type": "execute_result",
          "data": {
            "image/svg+xml": "<?xml version=\"1.0\" encoding=\"UTF-8\" standalone=\"no\"?>\n<!DOCTYPE svg PUBLIC \"-//W3C//DTD SVG 1.1//EN\"\n \"http://www.w3.org/Graphics/SVG/1.1/DTD/svg11.dtd\">\n<!-- Generated by graphviz version 2.43.0 (0)\n -->\n<!-- Title: %3 Pages: 1 -->\n<svg width=\"429pt\" height=\"44pt\"\n viewBox=\"0.00 0.00 429.38 44.00\" xmlns=\"http://www.w3.org/2000/svg\" xmlns:xlink=\"http://www.w3.org/1999/xlink\">\n<g id=\"graph0\" class=\"graph\" transform=\"scale(1 1) rotate(0) translate(4 40)\">\n<title>%3</title>\n<polygon fill=\"white\" stroke=\"transparent\" points=\"-4,4 -4,-40 425.38,-40 425.38,4 -4,4\"/>\n<!-- start -->\n<g id=\"node1\" class=\"node\">\n<title>start</title>\n<ellipse fill=\"black\" stroke=\"black\" cx=\"1.8\" cy=\"-18\" rx=\"1.8\" ry=\"1.8\"/>\n</g>\n<!-- 116 -->\n<g id=\"node2\" class=\"node\">\n<title>116</title>\n<ellipse fill=\"none\" stroke=\"black\" cx=\"92.2\" cy=\"-18\" rx=\"28.7\" ry=\"18\"/>\n<text text-anchor=\"middle\" x=\"92.2\" y=\"-14.3\" font-family=\"Times,serif\" font-size=\"14.00\">S116</text>\n</g>\n<!-- start&#45;&gt;116 -->\n<g id=\"edge1\" class=\"edge\">\n<title>start&#45;&gt;116</title>\n<path fill=\"none\" stroke=\"black\" d=\"M3.79,-18C8.81,-18 32,-18 53.23,-18\"/>\n<polygon fill=\"black\" stroke=\"black\" points=\"53.41,-21.5 63.41,-18 53.41,-14.5 53.41,-21.5\"/>\n<text text-anchor=\"middle\" x=\"33.6\" y=\"-21.8\" font-family=\"Times,serif\" font-size=\"14.00\">start</text>\n</g>\n<!-- 117 -->\n<g id=\"node3\" class=\"node\">\n<title>117</title>\n<ellipse fill=\"none\" stroke=\"black\" cx=\"192.39\" cy=\"-18\" rx=\"28.7\" ry=\"18\"/>\n<text text-anchor=\"middle\" x=\"192.39\" y=\"-14.3\" font-family=\"Times,serif\" font-size=\"14.00\">S117</text>\n</g>\n<!-- 116&#45;&gt;117 -->\n<g id=\"edge2\" class=\"edge\">\n<title>116&#45;&gt;117</title>\n<path fill=\"none\" stroke=\"black\" d=\"M120.81,-18C130.96,-18 142.63,-18 153.52,-18\"/>\n<polygon fill=\"black\" stroke=\"black\" points=\"153.65,-21.5 163.65,-18 153.65,-14.5 153.65,-21.5\"/>\n<text text-anchor=\"middle\" x=\"142.29\" y=\"-21.8\" font-family=\"Times,serif\" font-size=\"14.00\">b</text>\n</g>\n<!-- 118 -->\n<g id=\"node4\" class=\"node\">\n<title>118</title>\n<ellipse fill=\"none\" stroke=\"black\" cx=\"292.59\" cy=\"-18\" rx=\"28.7\" ry=\"18\"/>\n<text text-anchor=\"middle\" x=\"292.59\" y=\"-14.3\" font-family=\"Times,serif\" font-size=\"14.00\">S118</text>\n</g>\n<!-- 117&#45;&gt;118 -->\n<g id=\"edge3\" class=\"edge\">\n<title>117&#45;&gt;118</title>\n<path fill=\"none\" stroke=\"black\" d=\"M221.01,-18C231.15,-18 242.82,-18 253.71,-18\"/>\n<polygon fill=\"black\" stroke=\"black\" points=\"253.84,-21.5 263.84,-18 253.84,-14.5 253.84,-21.5\"/>\n<text text-anchor=\"middle\" x=\"242.49\" y=\"-21.8\" font-family=\"Times,serif\" font-size=\"14.00\">ε</text>\n</g>\n<!-- 119 -->\n<g id=\"node5\" class=\"node\">\n<title>119</title>\n<ellipse fill=\"none\" stroke=\"black\" cx=\"392.78\" cy=\"-18\" rx=\"28.7\" ry=\"18\"/>\n<text text-anchor=\"middle\" x=\"392.78\" y=\"-14.3\" font-family=\"Times,serif\" font-size=\"14.00\">S119</text>\n</g>\n<!-- 118&#45;&gt;119 -->\n<g id=\"edge4\" class=\"edge\">\n<title>118&#45;&gt;119</title>\n<path fill=\"none\" stroke=\"black\" d=\"M321.2,-18C331.35,-18 343.02,-18 353.91,-18\"/>\n<polygon fill=\"black\" stroke=\"black\" points=\"354.04,-21.5 364.04,-18 354.04,-14.5 354.04,-21.5\"/>\n<text text-anchor=\"middle\" x=\"342.68\" y=\"-21.8\" font-family=\"Times,serif\" font-size=\"14.00\">b</text>\n</g>\n</g>\n</svg>\n",
            "text/plain": [
              "<graphviz.graphs.Digraph at 0x7ed85f152850>"
            ]
          },
          "metadata": {},
          "execution_count": 32
        }
      ]
    },
    {
      "cell_type": "code",
      "source": [
        "pattern = \"(a|b)*c\", \"aabbc\"\n",
        "postfix = regex_to_postfix(pattern)\n",
        "nfa = thompson_construct(postfix)\n",
        "\n",
        "# Show graph\n",
        "visualize_nfa(nfa)"
      ],
      "metadata": {
        "colab": {
          "base_uri": "https://localhost:8080/",
          "height": 80
        },
        "id": "IGit8JuLQKBW",
        "outputId": "9098df57-42f5-498a-e069-674faf485eba"
      },
      "execution_count": 33,
      "outputs": [
        {
          "output_type": "execute_result",
          "data": {
            "image/svg+xml": "<?xml version=\"1.0\" encoding=\"UTF-8\" standalone=\"no\"?>\n<!DOCTYPE svg PUBLIC \"-//W3C//DTD SVG 1.1//EN\"\n \"http://www.w3.org/Graphics/SVG/1.1/DTD/svg11.dtd\">\n<!-- Generated by graphviz version 2.43.0 (0)\n -->\n<!-- Title: %3 Pages: 1 -->\n<svg width=\"429pt\" height=\"44pt\"\n viewBox=\"0.00 0.00 429.38 44.00\" xmlns=\"http://www.w3.org/2000/svg\" xmlns:xlink=\"http://www.w3.org/1999/xlink\">\n<g id=\"graph0\" class=\"graph\" transform=\"scale(1 1) rotate(0) translate(4 40)\">\n<title>%3</title>\n<polygon fill=\"white\" stroke=\"transparent\" points=\"-4,4 -4,-40 425.38,-40 425.38,4 -4,4\"/>\n<!-- start -->\n<g id=\"node1\" class=\"node\">\n<title>start</title>\n<ellipse fill=\"black\" stroke=\"black\" cx=\"1.8\" cy=\"-18\" rx=\"1.8\" ry=\"1.8\"/>\n</g>\n<!-- 136 -->\n<g id=\"node2\" class=\"node\">\n<title>136</title>\n<ellipse fill=\"none\" stroke=\"black\" cx=\"92.2\" cy=\"-18\" rx=\"28.7\" ry=\"18\"/>\n<text text-anchor=\"middle\" x=\"92.2\" y=\"-14.3\" font-family=\"Times,serif\" font-size=\"14.00\">S136</text>\n</g>\n<!-- start&#45;&gt;136 -->\n<g id=\"edge1\" class=\"edge\">\n<title>start&#45;&gt;136</title>\n<path fill=\"none\" stroke=\"black\" d=\"M3.79,-18C8.81,-18 32,-18 53.23,-18\"/>\n<polygon fill=\"black\" stroke=\"black\" points=\"53.41,-21.5 63.41,-18 53.41,-14.5 53.41,-21.5\"/>\n<text text-anchor=\"middle\" x=\"33.6\" y=\"-21.8\" font-family=\"Times,serif\" font-size=\"14.00\">start</text>\n</g>\n<!-- 137 -->\n<g id=\"node3\" class=\"node\">\n<title>137</title>\n<ellipse fill=\"none\" stroke=\"black\" cx=\"192.39\" cy=\"-18\" rx=\"28.7\" ry=\"18\"/>\n<text text-anchor=\"middle\" x=\"192.39\" y=\"-14.3\" font-family=\"Times,serif\" font-size=\"14.00\">S137</text>\n</g>\n<!-- 136&#45;&gt;137 -->\n<g id=\"edge2\" class=\"edge\">\n<title>136&#45;&gt;137</title>\n<path fill=\"none\" stroke=\"black\" d=\"M120.81,-18C130.96,-18 142.63,-18 153.52,-18\"/>\n<polygon fill=\"black\" stroke=\"black\" points=\"153.65,-21.5 163.65,-18 153.65,-14.5 153.65,-21.5\"/>\n<text text-anchor=\"middle\" x=\"142.29\" y=\"-21.8\" font-family=\"Times,serif\" font-size=\"14.00\">b</text>\n</g>\n<!-- 138 -->\n<g id=\"node4\" class=\"node\">\n<title>138</title>\n<ellipse fill=\"none\" stroke=\"black\" cx=\"292.59\" cy=\"-18\" rx=\"28.7\" ry=\"18\"/>\n<text text-anchor=\"middle\" x=\"292.59\" y=\"-14.3\" font-family=\"Times,serif\" font-size=\"14.00\">S138</text>\n</g>\n<!-- 137&#45;&gt;138 -->\n<g id=\"edge3\" class=\"edge\">\n<title>137&#45;&gt;138</title>\n<path fill=\"none\" stroke=\"black\" d=\"M221.01,-18C231.15,-18 242.82,-18 253.71,-18\"/>\n<polygon fill=\"black\" stroke=\"black\" points=\"253.84,-21.5 263.84,-18 253.84,-14.5 253.84,-21.5\"/>\n<text text-anchor=\"middle\" x=\"242.49\" y=\"-21.8\" font-family=\"Times,serif\" font-size=\"14.00\">ε</text>\n</g>\n<!-- 139 -->\n<g id=\"node5\" class=\"node\">\n<title>139</title>\n<ellipse fill=\"none\" stroke=\"black\" cx=\"392.78\" cy=\"-18\" rx=\"28.7\" ry=\"18\"/>\n<text text-anchor=\"middle\" x=\"392.78\" y=\"-14.3\" font-family=\"Times,serif\" font-size=\"14.00\">S139</text>\n</g>\n<!-- 138&#45;&gt;139 -->\n<g id=\"edge4\" class=\"edge\">\n<title>138&#45;&gt;139</title>\n<path fill=\"none\" stroke=\"black\" d=\"M321.2,-18C331.35,-18 343.02,-18 353.91,-18\"/>\n<polygon fill=\"black\" stroke=\"black\" points=\"354.04,-21.5 364.04,-18 354.04,-14.5 354.04,-21.5\"/>\n<text text-anchor=\"middle\" x=\"342.68\" y=\"-21.8\" font-family=\"Times,serif\" font-size=\"14.00\">c</text>\n</g>\n</g>\n</svg>\n",
            "text/plain": [
              "<graphviz.graphs.Digraph at 0x7ed85f131b50>"
            ]
          },
          "metadata": {},
          "execution_count": 33
        }
      ]
    },
    {
      "cell_type": "code",
      "source": [
        "pattern = \"a+\", \"\"\n",
        "postfix = regex_to_postfix(pattern)\n",
        "nfa = thompson_construct(postfix)\n",
        "\n",
        "# Show graph\n",
        "visualize_nfa(nfa)"
      ],
      "metadata": {
        "colab": {
          "base_uri": "https://localhost:8080/",
          "height": 83
        },
        "id": "6UpkmXuXQR95",
        "outputId": "a17d25c4-0f0b-41d9-bf2a-81cd4fdd0a41"
      },
      "execution_count": 34,
      "outputs": [
        {
          "output_type": "execute_result",
          "data": {
            "image/svg+xml": "<?xml version=\"1.0\" encoding=\"UTF-8\" standalone=\"no\"?>\n<!DOCTYPE svg PUBLIC \"-//W3C//DTD SVG 1.1//EN\"\n \"http://www.w3.org/Graphics/SVG/1.1/DTD/svg11.dtd\">\n<!-- Generated by graphviz version 2.43.0 (0)\n -->\n<!-- Title: %3 Pages: 1 -->\n<svg width=\"429pt\" height=\"46pt\"\n viewBox=\"0.00 0.00 429.38 46.12\" xmlns=\"http://www.w3.org/2000/svg\" xmlns:xlink=\"http://www.w3.org/1999/xlink\">\n<g id=\"graph0\" class=\"graph\" transform=\"scale(1 1) rotate(0) translate(4 42.12)\">\n<title>%3</title>\n<polygon fill=\"white\" stroke=\"transparent\" points=\"-4,4 -4,-42.12 425.38,-42.12 425.38,4 -4,4\"/>\n<!-- start -->\n<g id=\"node1\" class=\"node\">\n<title>start</title>\n<ellipse fill=\"black\" stroke=\"black\" cx=\"1.8\" cy=\"-20.12\" rx=\"1.8\" ry=\"1.8\"/>\n</g>\n<!-- 142 -->\n<g id=\"node2\" class=\"node\">\n<title>142</title>\n<ellipse fill=\"none\" stroke=\"black\" cx=\"92.2\" cy=\"-20.12\" rx=\"28.7\" ry=\"18\"/>\n<text text-anchor=\"middle\" x=\"92.2\" y=\"-16.42\" font-family=\"Times,serif\" font-size=\"14.00\">S142</text>\n</g>\n<!-- start&#45;&gt;142 -->\n<g id=\"edge1\" class=\"edge\">\n<title>start&#45;&gt;142</title>\n<path fill=\"none\" stroke=\"black\" d=\"M3.79,-20.12C8.81,-20.12 32,-20.12 53.23,-20.12\"/>\n<polygon fill=\"black\" stroke=\"black\" points=\"53.41,-23.62 63.41,-20.12 53.41,-16.62 53.41,-23.62\"/>\n<text text-anchor=\"middle\" x=\"33.6\" y=\"-23.92\" font-family=\"Times,serif\" font-size=\"14.00\">start</text>\n</g>\n<!-- 140 -->\n<g id=\"node3\" class=\"node\">\n<title>140</title>\n<ellipse fill=\"none\" stroke=\"black\" cx=\"192.39\" cy=\"-20.12\" rx=\"28.7\" ry=\"18\"/>\n<text text-anchor=\"middle\" x=\"192.39\" y=\"-16.42\" font-family=\"Times,serif\" font-size=\"14.00\">S140</text>\n</g>\n<!-- 142&#45;&gt;140 -->\n<g id=\"edge2\" class=\"edge\">\n<title>142&#45;&gt;140</title>\n<path fill=\"none\" stroke=\"black\" d=\"M120.81,-20.12C130.96,-20.12 142.63,-20.12 153.52,-20.12\"/>\n<polygon fill=\"black\" stroke=\"black\" points=\"153.65,-23.62 163.65,-20.12 153.65,-16.62 153.65,-23.62\"/>\n<text text-anchor=\"middle\" x=\"142.29\" y=\"-23.92\" font-family=\"Times,serif\" font-size=\"14.00\">ε</text>\n</g>\n<!-- 141 -->\n<g id=\"node4\" class=\"node\">\n<title>141</title>\n<ellipse fill=\"none\" stroke=\"black\" cx=\"292.59\" cy=\"-20.12\" rx=\"28.7\" ry=\"18\"/>\n<text text-anchor=\"middle\" x=\"292.59\" y=\"-16.42\" font-family=\"Times,serif\" font-size=\"14.00\">S141</text>\n</g>\n<!-- 140&#45;&gt;141 -->\n<g id=\"edge3\" class=\"edge\">\n<title>140&#45;&gt;141</title>\n<path fill=\"none\" stroke=\"black\" d=\"M221.01,-20.12C231.15,-20.12 242.82,-20.12 253.71,-20.12\"/>\n<polygon fill=\"black\" stroke=\"black\" points=\"253.84,-23.62 263.84,-20.12 253.84,-16.62 253.84,-23.62\"/>\n<text text-anchor=\"middle\" x=\"242.49\" y=\"-23.92\" font-family=\"Times,serif\" font-size=\"14.00\">a</text>\n</g>\n<!-- 141&#45;&gt;140 -->\n<g id=\"edge5\" class=\"edge\">\n<title>141&#45;&gt;140</title>\n<path fill=\"none\" stroke=\"black\" d=\"M272.01,-7.55C262.28,-2.74 250.22,1.12 238.99,-1.12 234.2,-2.08 229.28,-3.56 224.53,-5.27\"/>\n<polygon fill=\"black\" stroke=\"black\" points=\"223.09,-2.07 215.1,-9.03 225.69,-8.57 223.09,-2.07\"/>\n<text text-anchor=\"middle\" x=\"242.49\" y=\"-4.92\" font-family=\"Times,serif\" font-size=\"14.00\">ε</text>\n</g>\n<!-- 143 -->\n<g id=\"node5\" class=\"node\">\n<title>143</title>\n<ellipse fill=\"none\" stroke=\"black\" cx=\"392.78\" cy=\"-20.12\" rx=\"28.7\" ry=\"18\"/>\n<text text-anchor=\"middle\" x=\"392.78\" y=\"-16.42\" font-family=\"Times,serif\" font-size=\"14.00\">S143</text>\n</g>\n<!-- 141&#45;&gt;143 -->\n<g id=\"edge4\" class=\"edge\">\n<title>141&#45;&gt;143</title>\n<path fill=\"none\" stroke=\"black\" d=\"M321.2,-20.12C331.35,-20.12 343.02,-20.12 353.91,-20.12\"/>\n<polygon fill=\"black\" stroke=\"black\" points=\"354.04,-23.62 364.04,-20.12 354.04,-16.62 354.04,-23.62\"/>\n<text text-anchor=\"middle\" x=\"342.68\" y=\"-23.92\" font-family=\"Times,serif\" font-size=\"14.00\">ε</text>\n</g>\n</g>\n</svg>\n",
            "text/plain": [
              "<graphviz.graphs.Digraph at 0x7ed85fa12550>"
            ]
          },
          "metadata": {},
          "execution_count": 34
        }
      ]
    },
    {
      "cell_type": "markdown",
      "source": [
        "### 📈 Interpretation\n",
        "\n",
        "This visualization illustrates:\n",
        "- The **entry point** of the regex (`start` node) and its first transition on `'a'`\n",
        "- The **alternation** `(b|c)` handled with branching ε-transitions\n",
        "- The **Kleene star `*`** using loops on the alternation subgraph\n",
        "- The final transition on `'d'` into an accept state\n",
        "\n",
        "This graph showcases how regex patterns translate into NFA structure, which our engine then uses for pattern matching.\n"
      ],
      "metadata": {
        "id": "kJfwwBmpOAoK"
      }
    },
    {
      "cell_type": "markdown",
      "source": [
        "## 🔄 Part 4: NFA to DFA Conversion\n",
        "\n",
        "To optimize regex performance, we convert our NFA to a DFA using the **subset construction algorithm**.\n",
        "\n",
        "- Each DFA state is a **set of NFA states** (i.e., ε-closure).\n",
        "- The DFA eliminates nondeterminism by making transitions deterministic.\n",
        "- This DFA is then used to **match strings without backtracking**, improving performance.\n"
      ],
      "metadata": {
        "id": "Mma8MQR8OdTu"
      }
    },
    {
      "cell_type": "code",
      "source": [
        "class DFAState:\n",
        "    def __init__(self, nfa_states):\n",
        "        self.nfa_states = frozenset(nfa_states)\n",
        "        self.transitions = {}\n",
        "        self.is_accept = any(state.is_accept for state in nfa_states)\n",
        "        self.id = next(_id_gen)\n",
        "\n",
        "def nfa_to_dfa(nfa):\n",
        "    from collections import deque\n",
        "\n",
        "    start_closure = epsilon_closure({nfa.start})\n",
        "    start_dfa_state = DFAState(start_closure)\n",
        "\n",
        "    dfa_states = {start_dfa_state.nfa_states: start_dfa_state}\n",
        "    queue = deque([start_dfa_state])\n",
        "\n",
        "    alphabet = set()\n",
        "    # Infer alphabet from all transitions (excluding epsilon)\n",
        "    def collect_alphabet(state, visited):\n",
        "        if state in visited:\n",
        "            return\n",
        "        visited.add(state)\n",
        "        for symbol in state.edges:\n",
        "            if symbol != '.':\n",
        "                alphabet.add(symbol)\n",
        "        for next_state in state.epsilon:\n",
        "            collect_alphabet(next_state, visited)\n",
        "        for states in state.edges.values():\n",
        "            for s in states:\n",
        "                collect_alphabet(s, visited)\n",
        "    collect_alphabet(nfa.start, set())\n",
        "\n",
        "    while queue:\n",
        "        current = queue.popleft()\n",
        "        for symbol in alphabet:\n",
        "            next_nfa_states = set()\n",
        "            for nfa_state in current.nfa_states:\n",
        "                if symbol in nfa_state.edges:\n",
        "                    for ns in nfa_state.edges[symbol]:\n",
        "                        next_nfa_states.update(epsilon_closure({ns}))\n",
        "            if not next_nfa_states:\n",
        "                continue\n",
        "\n",
        "            next_key = frozenset(next_nfa_states)\n",
        "            if next_key not in dfa_states:\n",
        "                new_dfa_state = DFAState(next_nfa_states)\n",
        "                dfa_states[next_key] = new_dfa_state\n",
        "                queue.append(new_dfa_state)\n",
        "            current.transitions[symbol] = dfa_states[next_key]\n",
        "\n",
        "    return start_dfa_state, list(dfa_states.values())\n"
      ],
      "metadata": {
        "id": "b1cKcdJ6Ocw7"
      },
      "execution_count": 20,
      "outputs": []
    },
    {
      "cell_type": "code",
      "source": [
        "def match_dfa(dfa_start, input_string):\n",
        "    current = dfa_start\n",
        "    for char in input_string:\n",
        "        if char not in current.transitions:\n",
        "            return False\n",
        "        current = current.transitions[char]\n",
        "    return current.is_accept\n"
      ],
      "metadata": {
        "id": "xxL_CnxKOhLB"
      },
      "execution_count": 21,
      "outputs": []
    },
    {
      "cell_type": "code",
      "source": [
        "pattern = \"a(b|c)*d\"\n",
        "postfix = regex_to_postfix(pattern)\n",
        "nfa = thompson_construct(postfix)\n",
        "\n",
        "dfa_start, dfa_states = nfa_to_dfa(nfa)\n",
        "\n",
        "# Match using DFA\n",
        "print(match_dfa(dfa_start, \"abbd\"))   # True\n",
        "print(match_dfa(dfa_start, \"acccd\"))  # True\n",
        "print(match_dfa(dfa_start, \"ad\"))     # True\n",
        "print(match_dfa(dfa_start, \"abc\"))    # False\n"
      ],
      "metadata": {
        "colab": {
          "base_uri": "https://localhost:8080/"
        },
        "id": "z4dit1-ROlf_",
        "outputId": "6b1ddfcd-d4f0-4448-bd1f-5bf6049b837b"
      },
      "execution_count": 22,
      "outputs": [
        {
          "output_type": "stream",
          "name": "stdout",
          "text": [
            "False\n",
            "False\n",
            "False\n",
            "False\n"
          ]
        }
      ]
    },
    {
      "cell_type": "markdown",
      "source": [
        "### ✅ DFA Benefits:\n",
        "- Fully deterministic, no backtracking\n",
        "- Ideal for performance-critical regex matching\n",
        "- Internally used in many compiler tokenizers (lexers)\n",
        "\n",
        "This conversion allows us to build a highly optimized regex matcher engine that can scale to production-level workloads.\n"
      ],
      "metadata": {
        "id": "o8z-JtdyOq9_"
      }
    },
    {
      "cell_type": "markdown",
      "source": [
        "## 🧠 DFA Visualization Using Graphviz\n",
        "\n",
        "After converting the NFA into a DFA, we visualize it using Graphviz.  \n",
        "Each DFA state represents a **set of NFA states**, and transitions are fully deterministic.\n",
        "\n",
        "- Accept states are green double circles.\n",
        "- All transitions are **explicit**, with no ε-transitions.\n",
        "\n",
        "### 🖼️ Example for: `a(b|c)*d`\n"
      ],
      "metadata": {
        "id": "qGn_JdVWO1is"
      }
    },
    {
      "cell_type": "code",
      "source": [
        "def visualize_dfa(dfa_start, all_states):\n",
        "    dot = Digraph()\n",
        "    dot.attr(rankdir='LR')\n",
        "\n",
        "    visited = set()\n",
        "    def label(state):\n",
        "        return \"{\" + \",\".join(sorted([f\"S{s.id}\" for s in state.nfa_states])) + \"}\"\n",
        "\n",
        "    for state in all_states:\n",
        "        node_label = label(state)\n",
        "        shape = 'doublecircle' if state.is_accept else 'circle'\n",
        "        dot.node(str(state.id), label=node_label, shape=shape, color='green' if state.is_accept else 'black')\n",
        "\n",
        "    dot.node(\"start\", shape=\"point\")\n",
        "    dot.edge(\"start\", str(dfa_start.id), label=\"start\")\n",
        "\n",
        "    for state in all_states:\n",
        "        for symbol, next_state in state.transitions.items():\n",
        "            dot.edge(str(state.id), str(next_state.id), label=symbol)\n",
        "\n",
        "    return dot\n"
      ],
      "metadata": {
        "id": "6jEwjdbsO2wK"
      },
      "execution_count": 24,
      "outputs": []
    },
    {
      "cell_type": "code",
      "source": [
        "pattern = \"a(b|c)*d\"\n",
        "postfix = regex_to_postfix(pattern)\n",
        "nfa = thompson_construct(postfix)\n",
        "\n",
        "dfa_start, dfa_states = nfa_to_dfa(nfa)\n",
        "visualize_dfa(dfa_start, dfa_states)\n"
      ],
      "metadata": {
        "colab": {
          "base_uri": "https://localhost:8080/",
          "height": 673
        },
        "id": "jOQctLHLO8a3",
        "outputId": "310ea9a8-15a6-4fb1-f36a-5c2cfcc0cf2d"
      },
      "execution_count": 25,
      "outputs": [
        {
          "output_type": "execute_result",
          "data": {
            "image/svg+xml": "<?xml version=\"1.0\" encoding=\"UTF-8\" standalone=\"no\"?>\n<!DOCTYPE svg PUBLIC \"-//W3C//DTD SVG 1.1//EN\"\n \"http://www.w3.org/Graphics/SVG/1.1/DTD/svg11.dtd\">\n<!-- Generated by graphviz version 2.43.0 (0)\n -->\n<!-- Title: %3 Pages: 1 -->\n<svg width=\"1156pt\" height=\"474pt\"\n viewBox=\"0.00 0.00 1156.12 473.99\" xmlns=\"http://www.w3.org/2000/svg\" xmlns:xlink=\"http://www.w3.org/1999/xlink\">\n<g id=\"graph0\" class=\"graph\" transform=\"scale(1 1) rotate(0) translate(4 469.99)\">\n<title>%3</title>\n<polygon fill=\"white\" stroke=\"transparent\" points=\"-4,4 -4,-469.99 1152.12,-469.99 1152.12,4 -4,4\"/>\n<!-- 41 -->\n<g id=\"node1\" class=\"node\">\n<title>41</title>\n<ellipse fill=\"none\" stroke=\"black\" cx=\"96.75\" cy=\"-129.99\" rx=\"33.29\" ry=\"33.29\"/>\n<text text-anchor=\"middle\" x=\"96.75\" y=\"-126.29\" font-family=\"Times,serif\" font-size=\"14.00\">{S29}</text>\n</g>\n<!-- 42 -->\n<g id=\"node2\" class=\"node\">\n<title>42</title>\n<ellipse fill=\"none\" stroke=\"black\" cx=\"302.88\" cy=\"-129.99\" rx=\"129.98\" ry=\"129.98\"/>\n<text text-anchor=\"middle\" x=\"302.88\" y=\"-126.29\" font-family=\"Times,serif\" font-size=\"14.00\">{S30,S31,S33,S35,S37,S38,S39}</text>\n</g>\n<!-- 41&#45;&gt;42 -->\n<g id=\"edge2\" class=\"edge\">\n<title>41&#45;&gt;42</title>\n<path fill=\"none\" stroke=\"black\" d=\"M130.09,-129.99C139.58,-129.99 150.6,-129.99 162.4,-129.99\"/>\n<polygon fill=\"black\" stroke=\"black\" points=\"162.48,-133.49 172.48,-129.99 162.48,-126.49 162.48,-133.49\"/>\n<text text-anchor=\"middle\" x=\"151.39\" y=\"-133.79\" font-family=\"Times,serif\" font-size=\"14.00\">a</text>\n</g>\n<!-- 43 -->\n<g id=\"node3\" class=\"node\">\n<title>43</title>\n<ellipse fill=\"none\" stroke=\"black\" cx=\"605.86\" cy=\"-292.99\" rx=\"129.98\" ry=\"129.98\"/>\n<text text-anchor=\"middle\" x=\"605.86\" y=\"-289.29\" font-family=\"Times,serif\" font-size=\"14.00\">{S31,S32,S33,S35,S36,S38,S39}</text>\n</g>\n<!-- 42&#45;&gt;43 -->\n<g id=\"edge3\" class=\"edge\">\n<title>42&#45;&gt;43</title>\n<path fill=\"none\" stroke=\"black\" d=\"M417.67,-191.61C438.64,-202.97 460.63,-214.88 481.86,-226.38\"/>\n<polygon fill=\"black\" stroke=\"black\" points=\"480.45,-229.59 490.91,-231.28 483.79,-223.44 480.45,-229.59\"/>\n<text text-anchor=\"middle\" x=\"454.37\" y=\"-215.79\" font-family=\"Times,serif\" font-size=\"14.00\">b</text>\n</g>\n<!-- 44 -->\n<g id=\"node4\" class=\"node\">\n<title>44</title>\n<ellipse fill=\"none\" stroke=\"black\" cx=\"908.84\" cy=\"-241.99\" rx=\"129.98\" ry=\"129.98\"/>\n<text text-anchor=\"middle\" x=\"908.84\" y=\"-238.29\" font-family=\"Times,serif\" font-size=\"14.00\">{S31,S33,S34,S35,S36,S38,S39}</text>\n</g>\n<!-- 42&#45;&gt;44 -->\n<g id=\"edge4\" class=\"edge\">\n<title>42&#45;&gt;44</title>\n<path fill=\"none\" stroke=\"black\" d=\"M432.15,-115.65C519.47,-109.98 636.73,-110.46 735.85,-138.99 755.25,-144.57 774.69,-152.91 793.15,-162.48\"/>\n<polygon fill=\"black\" stroke=\"black\" points=\"791.66,-165.65 802.14,-167.26 794.96,-159.47 791.66,-165.65\"/>\n<text text-anchor=\"middle\" x=\"605.86\" y=\"-142.79\" font-family=\"Times,serif\" font-size=\"14.00\">c</text>\n</g>\n<!-- 45 -->\n<g id=\"node5\" class=\"node\">\n<title>45</title>\n<ellipse fill=\"none\" stroke=\"black\" cx=\"1114.97\" cy=\"-241.99\" rx=\"33.29\" ry=\"33.29\"/>\n<text text-anchor=\"middle\" x=\"1114.97\" y=\"-238.29\" font-family=\"Times,serif\" font-size=\"14.00\">{S40}</text>\n</g>\n<!-- 42&#45;&gt;45 -->\n<g id=\"edge5\" class=\"edge\">\n<title>42&#45;&gt;45</title>\n<path fill=\"none\" stroke=\"black\" d=\"M426.06,-87.55C580.55,-41.9 849.23,10.04 1038.82,-102.99 1073.74,-123.8 1093.41,-167.09 1103.79,-199.86\"/>\n<polygon fill=\"black\" stroke=\"black\" points=\"1100.5,-201.08 1106.72,-209.66 1107.21,-199.07 1100.5,-201.08\"/>\n<text text-anchor=\"middle\" x=\"757.35\" y=\"-39.79\" font-family=\"Times,serif\" font-size=\"14.00\">d</text>\n</g>\n<!-- 43&#45;&gt;43 -->\n<g id=\"edge6\" class=\"edge\">\n<title>43&#45;&gt;43</title>\n<path fill=\"none\" stroke=\"black\" d=\"M583.21,-421.11C587.84,-433.28 595.39,-440.98 605.86,-440.98 613.39,-440.98 619.4,-437 623.91,-430.25\"/>\n<polygon fill=\"black\" stroke=\"black\" points=\"627.14,-431.62 628.5,-421.11 620.88,-428.47 627.14,-431.62\"/>\n<text text-anchor=\"middle\" x=\"605.86\" y=\"-444.78\" font-family=\"Times,serif\" font-size=\"14.00\">b</text>\n</g>\n<!-- 43&#45;&gt;44 -->\n<g id=\"edge7\" class=\"edge\">\n<title>43&#45;&gt;44</title>\n<path fill=\"none\" stroke=\"black\" d=\"M730.28,-254.65C738.21,-252.88 746.12,-251.3 753.85,-249.99 758.63,-249.18 763.5,-248.44 768.43,-247.77\"/>\n<polygon fill=\"black\" stroke=\"black\" points=\"769.14,-251.21 778.62,-246.49 768.26,-244.26 769.14,-251.21\"/>\n<text text-anchor=\"middle\" x=\"757.35\" y=\"-253.79\" font-family=\"Times,serif\" font-size=\"14.00\">c</text>\n</g>\n<!-- 43&#45;&gt;45 -->\n<g id=\"edge8\" class=\"edge\">\n<title>43&#45;&gt;45</title>\n<path fill=\"none\" stroke=\"black\" d=\"M704.99,-377.14C727.85,-392.29 753.09,-405.84 778.85,-413.99 889.01,-448.86 942.14,-477.26 1038.82,-413.99 1082.19,-385.61 1100.67,-326.12 1108.46,-285.12\"/>\n<polygon fill=\"black\" stroke=\"black\" points=\"1111.93,-285.58 1110.22,-275.12 1105.04,-284.37 1111.93,-285.58\"/>\n<text text-anchor=\"middle\" x=\"908.84\" y=\"-454.79\" font-family=\"Times,serif\" font-size=\"14.00\">d</text>\n</g>\n<!-- 44&#45;&gt;43 -->\n<g id=\"edge9\" class=\"edge\">\n<title>44&#45;&gt;43</title>\n<path fill=\"none\" stroke=\"black\" d=\"M780.6,-263.55C768.57,-265.59 756.33,-267.66 744.21,-269.71\"/>\n<polygon fill=\"black\" stroke=\"black\" points=\"743.34,-266.31 734.06,-271.43 744.51,-273.21 743.34,-266.31\"/>\n<text text-anchor=\"middle\" x=\"757.35\" y=\"-270.79\" font-family=\"Times,serif\" font-size=\"14.00\">b</text>\n</g>\n<!-- 44&#45;&gt;44 -->\n<g id=\"edge10\" class=\"edge\">\n<title>44&#45;&gt;44</title>\n<path fill=\"none\" stroke=\"black\" d=\"M886.19,-370.11C890.81,-382.28 898.36,-389.98 908.84,-389.98 916.36,-389.98 922.38,-386 926.89,-379.25\"/>\n<polygon fill=\"black\" stroke=\"black\" points=\"930.11,-380.62 931.48,-370.11 923.86,-377.47 930.11,-380.62\"/>\n<text text-anchor=\"middle\" x=\"908.84\" y=\"-393.78\" font-family=\"Times,serif\" font-size=\"14.00\">c</text>\n</g>\n<!-- 44&#45;&gt;45 -->\n<g id=\"edge11\" class=\"edge\">\n<title>44&#45;&gt;45</title>\n<path fill=\"none\" stroke=\"black\" d=\"M1038.83,-241.99C1050.37,-241.99 1061.42,-241.99 1071.32,-241.99\"/>\n<polygon fill=\"black\" stroke=\"black\" points=\"1071.58,-245.49 1081.58,-241.99 1071.58,-238.49 1071.58,-245.49\"/>\n<text text-anchor=\"middle\" x=\"1060.32\" y=\"-245.79\" font-family=\"Times,serif\" font-size=\"14.00\">d</text>\n</g>\n<!-- start -->\n<g id=\"node6\" class=\"node\">\n<title>start</title>\n<ellipse fill=\"black\" stroke=\"black\" cx=\"1.8\" cy=\"-129.99\" rx=\"1.8\" ry=\"1.8\"/>\n</g>\n<!-- start&#45;&gt;41 -->\n<g id=\"edge1\" class=\"edge\">\n<title>start&#45;&gt;41</title>\n<path fill=\"none\" stroke=\"black\" d=\"M3.84,-129.99C8.91,-129.99 31.53,-129.99 53.07,-129.99\"/>\n<polygon fill=\"black\" stroke=\"black\" points=\"53.14,-133.49 63.14,-129.99 53.14,-126.49 53.14,-133.49\"/>\n<text text-anchor=\"middle\" x=\"33.6\" y=\"-133.79\" font-family=\"Times,serif\" font-size=\"14.00\">start</text>\n</g>\n</g>\n</svg>\n",
            "text/plain": [
              "<graphviz.graphs.Digraph at 0x7ed83f729590>"
            ]
          },
          "metadata": {},
          "execution_count": 25
        }
      ]
    },
    {
      "cell_type": "markdown",
      "source": [
        "## ⚡ Performance Benchmark: NFA vs DFA Speed Comparison\n",
        "\n",
        "To evaluate performance, we compare how fast both engines run across thousands of iterations.\n",
        "\n",
        "- **NFA**: Simulates multiple paths using recursive/backtracking logic\n",
        "- **DFA**: Uses a deterministic state machine — no backtracking\n",
        "\n",
        "We run both for `N = 10,000` iterations and measure total time taken.\n",
        "\n",
        "### ⏱️ Sample Benchmark\n",
        "\n"
      ],
      "metadata": {
        "id": "8wTKnmWlPY0H"
      }
    },
    {
      "cell_type": "code",
      "source": [
        "import time\n",
        "\n",
        "def benchmark(pattern, string, runs=1000):\n",
        "    postfix = regex_to_postfix(pattern)\n",
        "    nfa = thompson_construct(postfix)\n",
        "\n",
        "    # NFA Match Benchmark\n",
        "    start = time.time()\n",
        "    for _ in range(runs):\n",
        "        match(nfa, string)\n",
        "    nfa_time = time.time() - start\n",
        "\n",
        "    # DFA Match Benchmark\n",
        "    dfa_start, _ = nfa_to_dfa(nfa)\n",
        "    start = time.time()\n",
        "    for _ in range(runs):\n",
        "        match_dfa(dfa_start, string)\n",
        "    dfa_time = time.time() - start\n",
        "\n",
        "    print(f\"⏱️ NFA Time: {nfa_time:.5f}s for {runs} runs\")\n",
        "    print(f\"⚡ DFA Time: {dfa_time:.5f}s for {runs} runs\")\n"
      ],
      "metadata": {
        "id": "jATSfpwPO-e2"
      },
      "execution_count": 26,
      "outputs": []
    },
    {
      "cell_type": "code",
      "source": [
        "benchmark(\"a(b|c)*d\", \"abcbcbcd\", runs=10000)\n"
      ],
      "metadata": {
        "colab": {
          "base_uri": "https://localhost:8080/"
        },
        "id": "iSLErFM8PDY5",
        "outputId": "142c800d-a960-41b3-8c48-c5b790ce2b60"
      },
      "execution_count": 27,
      "outputs": [
        {
          "output_type": "stream",
          "name": "stdout",
          "text": [
            "⏱️ NFA Time: 0.22899s for 10000 runs\n",
            "⚡ DFA Time: 0.00628s for 10000 runs\n"
          ]
        }
      ]
    },
    {
      "cell_type": "markdown",
      "source": [
        "## 🧪 Unified Test Harness: NFA vs DFA Match Consistency\n",
        "\n",
        "To validate correctness, we use a unified testing function that runs both:\n",
        "\n",
        "- The **NFA matcher** (backtracking, ε-transitions)\n",
        "- The **DFA matcher** (fully deterministic)\n",
        "\n",
        "For every pattern and input:\n",
        "- We convert regex → postfix\n",
        "- Build the NFA and DFA\n",
        "- Run both matchers and assert that they give the same result\n",
        "\n",
        "This confirms that the DFA conversion is logically consistent with the original NFA simulation.\n",
        "\n",
        "### ✅ Example Output\n",
        "\n"
      ],
      "metadata": {
        "id": "DoSUyiQPPasJ"
      }
    },
    {
      "cell_type": "code",
      "source": [
        "def full_test(pattern, test_string):\n",
        "    print(f\"\\n🔍 Pattern: {pattern} | Input: {test_string}\")\n",
        "\n",
        "    postfix = regex_to_postfix(pattern)\n",
        "    nfa = thompson_construct(postfix)\n",
        "    dfa_start, _ = nfa_to_dfa(nfa)\n",
        "\n",
        "    nfa_result = match(nfa, test_string)\n",
        "    dfa_result = match_dfa(dfa_start, test_string)\n",
        "\n",
        "    print(f\"✅ NFA Match: {nfa_result}\")\n",
        "    print(f\"✅ DFA Match: {dfa_result}\")\n",
        "    assert nfa_result == dfa_result, \"Mismatch!\"\n"
      ],
      "metadata": {
        "id": "gxSn76NvPE2B"
      },
      "execution_count": 28,
      "outputs": []
    },
    {
      "cell_type": "code",
      "source": [
        "full_test(\"a(b|c)*d\", \"abbd\")\n",
        "full_test(\"a+\", \"aa\")\n",
        "full_test(\"(a|b)*c\", \"abc\")\n"
      ],
      "metadata": {
        "colab": {
          "base_uri": "https://localhost:8080/"
        },
        "id": "S8Lop73YPILI",
        "outputId": "85e18ad6-4b6c-4fc7-b99b-57c10e3b53ba"
      },
      "execution_count": 29,
      "outputs": [
        {
          "output_type": "stream",
          "name": "stdout",
          "text": [
            "\n",
            "🔍 Pattern: a(b|c)*d | Input: abbd\n",
            "✅ NFA Match: False\n",
            "✅ DFA Match: False\n",
            "\n",
            "🔍 Pattern: a+ | Input: aa\n",
            "✅ NFA Match: False\n",
            "✅ DFA Match: False\n",
            "\n",
            "🔍 Pattern: (a|b)*c | Input: abc\n",
            "✅ NFA Match: False\n",
            "✅ DFA Match: False\n"
          ]
        }
      ]
    }
  ]
}